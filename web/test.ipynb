{
 "cells": [
  {
   "cell_type": "code",
   "execution_count": null,
   "metadata": {},
   "outputs": [],
   "source": [
    "from rembg import remove\n",
    "from PIL import Image\n",
    "import numpy as np\n",
    "import random\n",
    "import cv2\n",
    "\n",
    "def replace_background(input_path, bg_path, output_path):\n",
    "\n",
    "    image = cv2.imread(input_path)\n",
    "    height, width = image.shape[:2]\n",
    "    # Xác định độ dịch chuyển ngẫu nhiên\n",
    "    shift_x = random.randint(-50, 50)  # Dịch sang trái hoặc phải ngẫu nhiên\n",
    "    # Ma trận dịch chuyển (translation matrix)\n",
    "    M = np.float32([[1, 0, shift_x], [0, 1, 0]])\n",
    "    # Áp dụng transformation\n",
    "    shifted_image = cv2.warpAffine(image, M, (width, height))\n",
    "    cv2.imwrite(input_path,shifted_image)\n",
    "    \n",
    "    # Đọc ảnh gốc\n",
    "    image = Image.open(input_path).convert(\"RGBA\")\n",
    "    \n",
    "    # Xóa nền cũ\n",
    "    removed_bg = remove(image)\n",
    "\n",
    "    # Đọc ảnh nền mới\n",
    "    bg_image = Image.open(bg_path).convert(\"RGBA\").resize(image.size)\n",
    "\n",
    "    # Chuyển ảnh thành mảng NumPy\n",
    "    fg_array = np.array(removed_bg)\n",
    "    bg_array = np.array(bg_image)\n",
    "\n",
    "    # Lấy kênh Alpha làm mặt nạ\n",
    "    alpha = fg_array[:, :, 3] / 255.0  # Chuẩn hóa về [0, 1]\n",
    "\n",
    "    # Kết hợp nền mới và foreground\n",
    "    for c in range(3):  # Lặp qua R, G, B\n",
    "        bg_array[:, :, c] = (1 - alpha) * bg_array[:, :, c] + alpha * fg_array[:, :, c]\n",
    "    \n",
    "    # Chuyển lại thành ảnh và lưu\n",
    "    final_image = Image.fromarray(bg_array.astype(\"uint8\"))\n",
    "    final_image.save(output_path)\n",
    "    print(f\"Ảnh đã lưu tại {output_path}\")\n",
    "\n",
    "# Gọi hàm với ảnh đầu vào và nền mới\n",
    "replace_background(\"000003.jpg\", \"pngtree-indoor-plant-on-wooden-floor-with-white-wall-background-image_15584292.jpg\", \"000003_1.png\")"
   ]
  }
 ],
 "metadata": {
  "language_info": {
   "name": "python"
  }
 },
 "nbformat": 4,
 "nbformat_minor": 2
}
