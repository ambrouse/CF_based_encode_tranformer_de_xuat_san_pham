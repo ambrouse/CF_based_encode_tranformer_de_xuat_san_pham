{
 "cells": [
  {
   "cell_type": "code",
   "execution_count": 1,
   "id": "a5e09a76",
   "metadata": {},
   "outputs": [],
   "source": [
    "import tensorflow as tf\n",
    "from tensorflow.keras.layers import MultiHeadAttention,Embedding,Dense,Activation,Flatten,Input,BatchNormalization,Dropout,GlobalAveragePooling1D,Concatenate,MultiHeadAttention,LayerNormalization\n",
    "from tensorflow.keras.models import Model\n",
    "from tensorflow.keras.optimizers import Adam\n",
    "from tensorflow.keras.losses import binary_crossentropy\n",
    "import numpy as np\n",
    "from tensorflow.keras.preprocessing.text import Tokenizer\n",
    "from tensorflow.keras.metrics import F1Score,Recall,Precision,BinaryAccuracy\n",
    "from pyvi import ViTokenizer\n",
    "from tensorflow.keras.preprocessing.sequence import pad_sequences\n",
    "import sys\n",
    "import pandas as pd \n",
    "from tensorflow.keras import regularizers\n",
    "from tensorflow.keras.constraints import max_norm\n",
    "import tensorflow.keras.backend as K\n",
    "from sklearn.utils import shuffle\n",
    "import seaborn as sns\n",
    "from sklearn.metrics import confusion_matrix\n",
    "from sklearn.metrics import f1_score\n",
    "from tensorflow.keras.callbacks import Callback"
   ]
  },
  {
   "cell_type": "code",
   "execution_count": null,
   "id": "2fb7a57e",
   "metadata": {},
   "outputs": [],
   "source": [
    "df = pd.read_csv(\"synthetic_data_0.txt\", delimiter=\"_\", header=None)\n",
    "data_new = pd.read_csv(\"synthetic_data_2.txt\", delimiter=\"_\", header=None)"
   ]
  },
  {
   "cell_type": "code",
   "execution_count": 96,
   "id": "51725330",
   "metadata": {},
   "outputs": [
    {
     "name": "stdout",
     "output_type": "stream",
     "text": [
      "           0   1   2           3   4       5   6   \\\n",
      "0  Thiều Việt  18   6  Kỹ sư điện   1  337.41  16   \n",
      "\n",
      "                                        7   8   9   ...        20       21  \\\n",
      "0  váy maxi, quần yếm nữ, mũ lưỡi trai nam  16   9  ...  Áo khoác  Mùa thu   \n",
      "\n",
      "              22       23          24  25   26     27  \\\n",
      "0  Hồng cánh sen  Brand D  Streetwear   L  308  79.63   \n",
      "\n",
      "                                                  28 29  \n",
      "0  công nghệ tiên tiến bảo hành 12 tháng tư vấn t...  0  \n",
      "\n",
      "[1 rows x 30 columns]\n"
     ]
    }
   ],
   "source": [
    "print(df.head(1))"
   ]
  },
  {
   "cell_type": "code",
   "execution_count": 62,
   "id": "7ee9d758",
   "metadata": {},
   "outputs": [],
   "source": [
    "def create_lookup(data):\n",
    "    lookup_ = tf.keras.layers.StringLookup(output_mode=\"int\")\n",
    "    lookup_.adapt(data)\n",
    "    return lookup_\n",
    "def encryption(key_word_, data_,lookup_):\n",
    "    \"\"\"\n",
    "        Tokenize theo từ khóa số từ tương ứng với số khóa\n",
    "    \"\"\"\n",
    "    new_data_ = np.array(lookup_(data_)).reshape(-1,1)\n",
    "    print(f\"-{key_word_} trước khi mã hóa: {np.array(data_[0:3]).reshape(3)}   {key_word_} sau khi mã hóa: {new_data_[0:3].reshape(3)}\")\n",
    "    return new_data_\n",
    "\n",
    "lookup1_ = create_lookup(df.iloc[:,20])\n",
    "lookup2_ = create_lookup(df.iloc[:,21])\n",
    "lookup3_ = create_lookup(df.iloc[:,22])\n",
    "lookup4_ = create_lookup(df.iloc[:,23])\n",
    "lookup5_ = create_lookup(df.iloc[:,24])\n",
    "lookup6_ = create_lookup(df.iloc[:,25])\n",
    "lookup7_ = create_lookup(df.iloc[:,3])"
   ]
  },
  {
   "cell_type": "code",
   "execution_count": null,
   "id": "83926c3a",
   "metadata": {},
   "outputs": [],
   "source": [
    "def create_tokenizer(data_):\n",
    "    \"\"\"\n",
    "        Tạo tokenizer cho dữ liệu đầu vào\n",
    "    \"\"\"\n",
    "    tokenized_data = [ViTokenizer.tokenize(i) for i in data_]\n",
    "    tokenize_ = Tokenizer(filters='!\"#$%&()*+,-./:;<=>?@[\\\\]^`{|}~\\t\\n', split=\" \")\n",
    "    tokenize_.fit_on_texts(tokenized_data)\n",
    "    return tokenize_\n",
    "def tokennize(key_word_,data_,tokenize_,_pad_size):\n",
    "    \"\"\"\n",
    "        Tokenize dữ liệu đầu vào\n",
    "    \"\"\"\n",
    "    new_data_ = tokenize_.texts_to_sequences(data_)\n",
    "    new_data_ = np.array(pad_sequences(new_data_,maxlen=_pad_size,padding=\"post\",truncating=\"post\"))\n",
    "    print(f\"-{key_word_} trước khi tokennize: {data_[0]}    {key_word_} sau khi tokennize: {new_data_[0]}\")\n",
    "    return new_data_\n",
    "\n",
    "tokennize1_ = create_tokenizer(df.iloc[:,7])\n",
    "tokennize2_ = create_tokenizer(df.iloc[:,11])\n",
    "tokennize3_ = create_tokenizer(df.iloc[:,17])\n",
    "tokennize4_ = create_tokenizer(df.iloc[:,19])\n",
    "tokennize5_ = create_tokenizer(df.iloc[:,28])"
   ]
  },
  {
   "cell_type": "code",
   "execution_count": 68,
   "id": "5154122c",
   "metadata": {},
   "outputs": [],
   "source": [
    "def convert_number_log(key_word_,data_):\n",
    "    prite_product_ = np.log(data_.astype(np.float64)+1).reshape(-1,1)\n",
    "    print(f\"-{key_word_} trước khi mã hóa: {data_[0]}    {key_word_} sau khi mã hóa: {prite_product_[0]}\")\n",
    "    return prite_product_"
   ]
  },
  {
   "cell_type": "code",
   "execution_count": 108,
   "id": "b69f4b51",
   "metadata": {},
   "outputs": [
    {
     "name": "stdout",
     "output_type": "stream",
     "text": [
      "-Tuổi của người dùng: [50. 20. 34. 54. 57.]\n",
      "-Tháng sinh của người dùng: [ 2. 12.  9.  4. 11.]\n",
      "-Giới tính của người dùng: [2. 1. 2. 1. 2.]\n",
      "-Trung bình số tiền mỗi lần mua hàng 30 ngày gần nhất trước khi mã hóa: 483.91    Trung bình số tiền mỗi lần mua hàng 30 ngày gần nhất sau khi mã hóa: [6.18396331]\n",
      "-Số lần click vào sản phẩm: [84. 98. 57. 70. 53.]\n",
      "-Số lần mua: [22. 10. 10. 29. 14.]\n",
      "-Tháng mua sản phẩm: [6. 6. 2. 2. 6.]\n",
      "-Tổng số lượng sản phẩm mà người dùng mua trong 30 ngày gần nhất: [18. 48.  9. 26. 14.]\n",
      "-Khoản cách mua sản phẩm này gần nhất: [ 3. 59.  5.  5.  5.]\n",
      "-Số lần hủy sản phẩm: [4. 8. 7. 6. 7.]\n",
      "-Số lần trả sản phẩm: [10.  8.  5.  3.  7.]\n",
      "-Số lần thêm nhưng không mua sản phẩm: [ 2. 10. 16.  9. 19.]\n",
      "-Số điểm sản phẩm: [7.8 3.2 7.1 2.5 5.5]\n",
      "-Giảm giá: [1. 2. 1. 2. 1.]\n",
      "-Lượt bán sản phẩm trong 30 ngày gần nhất: [312. 241. 683. 373. 313.]\n",
      "-Giá tiền sản phẩm trước khi mã hóa: 87.38    Giá tiền sản phẩm sau khi mã hóa: [4.4816457]\n",
      "-3 lịch sử tìm kiếm gần nhất trước khi tokennize: găng tay da, giày chạy bộ, giày lười nam    3 lịch sử tìm kiếm gần nhất sau khi tokennize: [11  6 74  5  6 64  2  0  0  0  0  0]\n",
      "-Tên sản phẩm mua lần gần nhất trước khi tokennize: Đầm dạ hội    Tên sản phẩm mua lần gần nhất sau khi tokennize: [44  0  0]\n",
      "-3 Bình luận về sản phẩm trước khi tokennize: mẫu mã đẹp tính năng vượt trội mua tặng bạn bè dịch vụ chống nước tốt sản phẩm như mô tả rất đáng giá cảm giác đẳng cấp hoàn toàn yên tâm mẫu mã đẹp mang phong cách riêng bền đẹp giao hàng nhanh chất lượng độ bền cao cảm giác thoải mái hoàn toàn yên tâm hợp xu hướng phục vụ chu đáo rất hài lòng    3 Bình luận về sản phẩm sau khi tokennize: [ 5  3 63  8 35 19 36  1 14  5 27 68  7  5 20  2 56 82 24  7 23 74  1  0\n",
      "  0  0  0  0  0  0  0  0  0  0  0  0  0  0  0  0  0  0  0  0  0  0  0  0\n",
      "  0  0  0  0  0  0  0  0  0  0  0  0]\n",
      "--Tên sản phẩm trước khi tokennize: Quần yếm nữ    -Tên sản phẩm sau khi tokennize: [ 4 48  1]\n",
      "-Mô tả sản phẩm trước khi tokennize: độ hoàn thiện cao giá cả ổn định khách hàng thân thiết rất đáng giá phù hợp xu hướng sản phẩm như mô tả thiết kế thông minh cảm giác êm ái nhiều mẫu mã thiết kế thông minh tính năng vượt trội rất đáng tiền thiết kế thông minh tinh tế cảm giác đẳng cấp nhiều mẫu mã giao hàng rất vừa vặn công nghệ tiên tiến cảm giác êm ái phục vụ chu đáo độ bền cao công nghệ tiên tiến rất đẹp thời trang rất ấn tượng hài lòng tuyệt đối phù hợp mọi lứa tuổi cảm giác thoải mái màu sắc đẹp giao hàng nhanh hàng chính hãng bảo hành 12 tháng thương hiệu nổi tiếng chất lượng dễ dàng sử dụng nhiều mẫu mã hài lòng tuyệt đối rất đáng sở hữu khách hàng thân thiết phù hợp mọi lứa tuổi đổi trả dễ dàng bền đẹp rất đẹp cảm giác đẳng cấp cảm giác tuyệt vời bảo hành tốt giao hàng dễ dàng sử dụng cảm giác êm ái    Mô tả sản phẩm sau khi tokennize: [24 23  2  1 18 70 47 14  1 18 67 14 20  2  1 24 13 23  1  5  1 70 39 40\n",
      " 41  5 20  2 60  2 58 59 53 54 77 14  1 18  2 70 39 40 41 55 56 13  5  1\n",
      "  5 19 20  2  0  0  0  0  0  0  0  0  0  0  0  0  0  0  0  0  0  0  0  0\n",
      "  0  0  0  0  0  0  0  0  0  0  0  0  0  0  0  0  0  0  0  0  0  0  0  0\n",
      "  0  0  0  0  0  0  0  0  0  0  0  0  0  0  0  0  0  0  0  0  0  0  0  0\n",
      "  0  0  0  0  0  0  0  0  0  0  0]\n",
      "-Loại sản phẩm trước khi mã hóa: ['Quần yếm' 'Quần short' 'Tất']   Loại sản phẩm sau khi mã hóa: [27  7 11]\n",
      "-Mùa ra mắt sản phẩm trước khi mã hóa: ['Mùa xuân' 'Mùa đông' 'Mùa đông']   Mùa ra mắt sản phẩm sau khi mã hóa: [3 2 2]\n",
      "-Màu sản phẩm trước khi mã hóa: ['Trắng sữa' 'Vàng chói' 'Vàng nhạt']   Màu sản phẩm sau khi mã hóa: [65 88 61]\n",
      "-Thương hiệu sản phẩm trước khi mã hóa: ['Brand AC' 'Brand U' 'Brand Q']   Thương hiệu sản phẩm sau khi mã hóa: [29  5  9]\n",
      "-Phong cách sản phẩm trước khi mã hóa: ['Vintage' 'Casual' 'Phụ kiện']   Phong cách sản phẩm sau khi mã hóa: [12  4  2]\n",
      "-Size sản phẩm trước khi mã hóa: ['M' '28' 'One size']   Size sản phẩm sau khi mã hóa: [2 5 1]\n",
      "-Nghề nghiệp của người dùng trước khi mã hóa: ['Nhà phân tích thị trường' 'Nhân viên bán hàng' 'Chuyên viên SEO']   Nghề nghiệp của người dùng sau khi mã hóa: [131 165  93]\n"
     ]
    }
   ],
   "source": [
    "age_ = np.array(data_new.iloc[:,1]).astype(np.float64).reshape(-1,1)\n",
    "print(f\"-Tuổi của người dùng: {age_[0:5].reshape(-1)}\")\n",
    "month_user_ = np.array(data_new.iloc[:,2]).astype(np.float64).reshape(-1,1)\n",
    "print(f\"-Tháng sinh của người dùng: {month_user_[0:5].reshape(-1)}\")\n",
    "sex_ = np.array(data_new.iloc[:,4]+1).astype(np.float64).reshape(-1,1)\n",
    "print(f\"-Giới tính của người dùng: {sex_[0:5].reshape(-1)}\")\n",
    "total_money_buy_product_ = convert_number_log(key_word_=\"Trung bình số tiền mỗi lần mua hàng 30 ngày gần nhất\",data_=np.array(data_new.iloc[:,5]))\n",
    "number_click_ = np.array(data_new.iloc[:,6]+1).astype(np.float64).reshape(-1,1)\n",
    "print(f\"-Số lần click vào sản phẩm: {number_click_[0:5].reshape(-1)}\")\n",
    "number_buy_ = np.array(data_new.iloc[:,8]+1).astype(np.float64).reshape(-1,1)\n",
    "print(f\"-Số lần mua: {number_buy_[0:5].reshape(-1)}\")\n",
    "month_buy_product_ = np.array(data_new.iloc[:,9]).astype(np.float64).reshape(-1,1)\n",
    "print(f\"-Tháng mua sản phẩm: {month_buy_product_[0:5].reshape(-1)}\")\n",
    "total_buy_product_ = np.array(data_new.iloc[:,10]).astype(np.float64).reshape(-1,1)\n",
    "print(f\"-Tổng số lượng sản phẩm mà người dùng mua trong 30 ngày gần nhất: {total_buy_product_[0:5].reshape(-1)}\")\n",
    "number_last_day_buy_product_ = np.array(data_new.iloc[:,12]).astype(np.float64).reshape(-1,1)\n",
    "print(f\"-Khoản cách mua sản phẩm này gần nhất: {number_last_day_buy_product_[0:5].reshape(-1)}\")\n",
    "number_cancel_product_ = np.array(data_new.iloc[:,13]+1).astype(np.float64).reshape(-1,1)\n",
    "print(f\"-Số lần hủy sản phẩm: {number_cancel_product_[0:5].reshape(-1)}\")\n",
    "number_return_product_ = np.array(data_new.iloc[:,14]+1).astype(np.float64).reshape(-1,1)\n",
    "print(f\"-Số lần trả sản phẩm: {number_return_product_[0:5].reshape(-1)}\")\n",
    "number_not_buy_product_ = np.array(data_new.iloc[:,15]+1).astype(np.float64).reshape(-1,1)\n",
    "print(f\"-Số lần thêm nhưng không mua sản phẩm: {number_not_buy_product_[0:5].reshape(-1)}\")\n",
    "rate_product_ = np.array(data_new.iloc[:,16]+1).astype(np.float64).reshape(-1,1)\n",
    "print(f\"-Số điểm sản phẩm: {rate_product_[0:5].reshape(-1)}\")\n",
    "discount_ = np.array(data_new.iloc[:,18]+1).astype(np.float64).reshape(-1,1)\n",
    "print(f\"-Giảm giá: {discount_[0:5].reshape(-1)}\")\n",
    "sales_product_ = np.array(data_new.iloc[:,26]+1).astype(np.float64).reshape(-1,1)\n",
    "print(f\"-Lượt bán sản phẩm trong 30 ngày gần nhất: {sales_product_[0:5].reshape(-1)}\")\n",
    "price_product_ = convert_number_log(key_word_=\"Giá tiền sản phẩm\",data_=np.array(data_new.iloc[:,27]))\n",
    "search_ = tokennize(\"3 lịch sử tìm kiếm gần nhất\",data_new.iloc[:,7],tokennize1_,12)\n",
    "name_product_buy_ = tokennize(\"Tên sản phẩm mua lần gần nhất\",data_new.iloc[:,11],tokennize2_,3)\n",
    "coment_product_ = tokennize(\"3 Bình luận về sản phẩm\",data_new.iloc[:,17],tokennize3_,60)\n",
    "name_product_ = tokennize(\"-Tên sản phẩm\",data_new.iloc[:,19],tokennize4_,3)\n",
    "desription_ = tokennize(\"Mô tả sản phẩm\",data_new.iloc[:,28],tokennize5_,131)\n",
    "type_ = encryption(\"Loại sản phẩm\",data_new.iloc[:,20],lookup1_)\n",
    "seasion_ = encryption(\"Mùa ra mắt sản phẩm\",data_new.iloc[:,21],lookup2_)\n",
    "color_ = encryption(\"Màu sản phẩm\",data_new.iloc[:,22],lookup3_)\n",
    "brand_ = encryption(\"Thương hiệu sản phẩm\",data_new.iloc[:,23],lookup4_)\n",
    "style_ = encryption(\"Phong cách sản phẩm\",data_new.iloc[:,24],lookup5_)\n",
    "size_ = encryption(\"Size sản phẩm\",data_new.iloc[:,25],lookup6_)\n",
    "job_ = encryption(\"Nghề nghiệp của người dùng\",data_new.iloc[:,3],lookup7_)"
   ]
  },
  {
   "cell_type": "code",
   "execution_count": 109,
   "id": "b6b8760a",
   "metadata": {},
   "outputs": [
    {
     "name": "stdout",
     "output_type": "stream",
     "text": [
      "-Shape dữ liệu nhóm 1: (10000, 4)\n",
      "-Shape dữ liệu nhóm 2: (10000, 19)\n",
      "-Shape dữ liệu nhóm 3: (10000, 9)\n",
      "-Shape dữ liệu nhóm 4: (10000, 61)\n",
      "-Shape dữ liệu nhóm 5: (10000, 3)\n",
      "-Shape dữ liệu nhóm 6: (10000, 131)\n",
      "-Shape dữ liệu nhóm 7: (10000, 5)\n"
     ]
    }
   ],
   "source": [
    "data_x1_ = np.concatenate((age_,\n",
    "                           month_user_,\n",
    "                           job_,\n",
    "                           sex_,),axis=1)\n",
    "data_x2_ = np.concatenate((\n",
    "                          total_money_buy_product_,\n",
    "                          number_click_,\n",
    "                          search_,\n",
    "                          number_buy_,\n",
    "                          number_last_day_buy_product_,\n",
    "                          number_cancel_product_,\n",
    "                          number_not_buy_product_,\n",
    "                          number_return_product_\n",
    "                          ),axis=1)\n",
    "data_x3_ = np.concatenate((\n",
    "                          name_product_,\n",
    "                          type_,\n",
    "                          seasion_,\n",
    "                          color_,\n",
    "                          brand_,\n",
    "                          style_,\n",
    "                          size_),axis=1)\n",
    "data_x4_ = np.concatenate((\n",
    "                          rate_product_,\n",
    "                          coment_product_),axis=1)\n",
    "data_x5_ = np.concatenate((\n",
    "                          total_buy_product_,\n",
    "                          price_product_,\n",
    "                          discount_),axis=1)\n",
    "data_x6_ = np.array(desription_)\n",
    "data_x7_ = np.concatenate((        \n",
    "                          month_buy_product_,\n",
    "                          name_product_buy_,\n",
    "                          sales_product_,\n",
    "                          ),axis=1)\n",
    "\n",
    "# Kiểm tra lại shape sau khi shuffle\n",
    "print(f\"-Shape dữ liệu nhóm 1: {data_x1_.shape}\")\n",
    "print(f\"-Shape dữ liệu nhóm 2: {data_x2_.shape}\")\n",
    "print(f\"-Shape dữ liệu nhóm 3: {data_x3_.shape}\")\n",
    "print(f\"-Shape dữ liệu nhóm 4: {data_x4_.shape}\")\n",
    "print(f\"-Shape dữ liệu nhóm 5: {data_x5_.shape}\")\n",
    "print(f\"-Shape dữ liệu nhóm 6: {data_x6_.shape}\")\n",
    "print(f\"-Shape dữ liệu nhóm 7: {data_x7_.shape}\")\n",
    "\n",
    "data_y_ = df.iloc[:,-1]"
   ]
  },
  {
   "cell_type": "code",
   "execution_count": 110,
   "id": "1614b299",
   "metadata": {},
   "outputs": [],
   "source": [
    "class PositionEmbedding(tf.keras.layers.Layer):\n",
    "    def __init__(self, sequence_length, d_model,name_,trainable=True,dtype=\"float32\"):\n",
    "        super().__init__(name=name_,trainable=trainable,dtype=dtype)\n",
    "        self.pos_emb = self.add_weight(\n",
    "            shape=(sequence_length, d_model),  # Ma trận vị trí (số đặc trưng x d_model)\n",
    "            initializer=\"random_normal\",\n",
    "            trainable=True,\n",
    "            name=\"position_embedding\"\n",
    "        )\n",
    "\n",
    "    def call(self, inputs, training=True):\n",
    "        return inputs + self.pos_emb  # Cộng thẳng vào embedding    \n",
    "\n",
    "\n",
    "class encode(tf.keras.layers.Layer):\n",
    "    def __init__(self, deep_, num_head_, dropout_rate_, name_,trainable=True,dtype=\"float32\"):\n",
    "        super(encode, self).__init__(name=name_,trainable=trainable,dtype=dtype)\n",
    "        self.attention_ = MultiHeadAttention(num_heads = num_head_, key_dim = deep_)\n",
    "        self.dense_ = Dense(deep_,kernel_regularizer = regularizers.l2(0.001),kernel_constraint=max_norm(3), activation='relu')\n",
    "        self.l1_ = LayerNormalization(epsilon=1e-6)\n",
    "        self.dr1_ = Dropout(dropout_rate_)\n",
    "        self.l2_ = LayerNormalization(epsilon=1e-6)\n",
    "        self.dr2_ = Dropout(dropout_rate_)\n",
    "\n",
    "    def call(self, input, training=True):\n",
    "        x1_ = self.attention_(input[0],input[0])\n",
    "        # x2_ = self.dr1_(x1_)\n",
    "        x3_ = self.l1_(x1_+input[1])\n",
    "\n",
    "        x4_ = self.dense_(x3_)\n",
    "        # x5_ = self.dr2_(x4_)\n",
    "        x6_ = self.l2_(x4_+x3_)\n",
    "\n",
    "        return x6_\n",
    "\n",
    "class emded(tf.keras.layers.Layer):\n",
    "    def __init__(self, name_, deep_,trainable=True,dtype=\"float32\"):\n",
    "        super(emded, self).__init__(name=name_,trainable=trainable,dtype=dtype)\n",
    "        self.input_dims = [185, 102, 108, 136, 51, 136, 1002]\n",
    "        self.output_dims = [14, 11, 11, 12, 8, 12, 32]\n",
    "        self.deep = deep_\n",
    "\n",
    "        self.embed_layers = [Embedding(input_dim=dim, output_dim=out_dim) \n",
    "                             for dim, out_dim in zip(self.input_dims, self.output_dims)]\n",
    "        self.dense_layers = [Dense(self.deep, use_bias=False) for _ in range(5)]\n",
    "        self.concat_ = Concatenate(axis=1)\n",
    "\n",
    "    def call(self, inputs, training=True):\n",
    "        x1_, x2_, x3_, x4_, x5_,x6_,x7_ = inputs\n",
    "        x_embedded = [embed(x) for embed, x in zip(self.embed_layers, [x1_, x2_, x3_, x4_, x5_,x6_,x7_])]\n",
    "        x_dense = [dense(x) for dense, x in zip(self.dense_layers, x_embedded)]\n",
    "        return self.concat_(x_dense)\n",
    "        \n",
    "class output(tf.keras.layers.Layer):\n",
    "    def __init__(self, dropout_rate, deep_, name_,trainable=True,dtype=\"float32\"):\n",
    "        super(output, self).__init__(name=name_,trainable=trainable,dtype=dtype)\n",
    "        self.dense_out1_ = Dense(deep_)\n",
    "        self.l_out1_ = LayerNormalization(epsilon=1e-6)\n",
    "        self.d_out1_ = Dropout(0.2)\n",
    "\n",
    "    def call(self, input, training=True):\n",
    "        x_ = self.dense_out1_(input)\n",
    "        x_ = self.l_out1_(x_)\n",
    "        x_ = self.d_out1_(x_)\n",
    "        \n",
    "        return x_"
   ]
  },
  {
   "cell_type": "code",
   "execution_count": 111,
   "id": "2bfb1652",
   "metadata": {},
   "outputs": [
    {
     "data": {
      "text/html": [
       "<pre style=\"white-space:pre;overflow-x:auto;line-height:normal;font-family:Menlo,'DejaVu Sans Mono',consolas,'Courier New',monospace\"><span style=\"font-weight: bold\">Model: \"test_model\"</span>\n",
       "</pre>\n"
      ],
      "text/plain": [
       "\u001b[1mModel: \"test_model\"\u001b[0m\n"
      ]
     },
     "metadata": {},
     "output_type": "display_data"
    },
    {
     "data": {
      "text/html": [
       "<pre style=\"white-space:pre;overflow-x:auto;line-height:normal;font-family:Menlo,'DejaVu Sans Mono',consolas,'Courier New',monospace\">┏━━━━━━━━━━━━━━━━━━━━━┳━━━━━━━━━━━━━━━━━━━┳━━━━━━━━━━━━┳━━━━━━━━━━━━━━━━━━━┓\n",
       "┃<span style=\"font-weight: bold\"> Layer (type)        </span>┃<span style=\"font-weight: bold\"> Output Shape      </span>┃<span style=\"font-weight: bold\">    Param # </span>┃<span style=\"font-weight: bold\"> Connected to      </span>┃\n",
       "┡━━━━━━━━━━━━━━━━━━━━━╇━━━━━━━━━━━━━━━━━━━╇━━━━━━━━━━━━╇━━━━━━━━━━━━━━━━━━━┩\n",
       "│ input_layer_28      │ (<span style=\"color: #00d7ff; text-decoration-color: #00d7ff\">None</span>, <span style=\"color: #00af00; text-decoration-color: #00af00\">4</span>)         │          <span style=\"color: #00af00; text-decoration-color: #00af00\">0</span> │ -                 │\n",
       "│ (<span style=\"color: #0087ff; text-decoration-color: #0087ff\">InputLayer</span>)        │                   │            │                   │\n",
       "├─────────────────────┼───────────────────┼────────────┼───────────────────┤\n",
       "│ input_layer_29      │ (<span style=\"color: #00d7ff; text-decoration-color: #00d7ff\">None</span>, <span style=\"color: #00af00; text-decoration-color: #00af00\">19</span>)        │          <span style=\"color: #00af00; text-decoration-color: #00af00\">0</span> │ -                 │\n",
       "│ (<span style=\"color: #0087ff; text-decoration-color: #0087ff\">InputLayer</span>)        │                   │            │                   │\n",
       "├─────────────────────┼───────────────────┼────────────┼───────────────────┤\n",
       "│ input_layer_30      │ (<span style=\"color: #00d7ff; text-decoration-color: #00d7ff\">None</span>, <span style=\"color: #00af00; text-decoration-color: #00af00\">9</span>)         │          <span style=\"color: #00af00; text-decoration-color: #00af00\">0</span> │ -                 │\n",
       "│ (<span style=\"color: #0087ff; text-decoration-color: #0087ff\">InputLayer</span>)        │                   │            │                   │\n",
       "├─────────────────────┼───────────────────┼────────────┼───────────────────┤\n",
       "│ input_layer_31      │ (<span style=\"color: #00d7ff; text-decoration-color: #00d7ff\">None</span>, <span style=\"color: #00af00; text-decoration-color: #00af00\">61</span>)        │          <span style=\"color: #00af00; text-decoration-color: #00af00\">0</span> │ -                 │\n",
       "│ (<span style=\"color: #0087ff; text-decoration-color: #0087ff\">InputLayer</span>)        │                   │            │                   │\n",
       "├─────────────────────┼───────────────────┼────────────┼───────────────────┤\n",
       "│ input_layer_32      │ (<span style=\"color: #00d7ff; text-decoration-color: #00d7ff\">None</span>, <span style=\"color: #00af00; text-decoration-color: #00af00\">3</span>)         │          <span style=\"color: #00af00; text-decoration-color: #00af00\">0</span> │ -                 │\n",
       "│ (<span style=\"color: #0087ff; text-decoration-color: #0087ff\">InputLayer</span>)        │                   │            │                   │\n",
       "├─────────────────────┼───────────────────┼────────────┼───────────────────┤\n",
       "│ input_layer_33      │ (<span style=\"color: #00d7ff; text-decoration-color: #00d7ff\">None</span>, <span style=\"color: #00af00; text-decoration-color: #00af00\">131</span>)       │          <span style=\"color: #00af00; text-decoration-color: #00af00\">0</span> │ -                 │\n",
       "│ (<span style=\"color: #0087ff; text-decoration-color: #0087ff\">InputLayer</span>)        │                   │            │                   │\n",
       "├─────────────────────┼───────────────────┼────────────┼───────────────────┤\n",
       "│ input_layer_34      │ (<span style=\"color: #00d7ff; text-decoration-color: #00d7ff\">None</span>, <span style=\"color: #00af00; text-decoration-color: #00af00\">5</span>)         │          <span style=\"color: #00af00; text-decoration-color: #00af00\">0</span> │ -                 │\n",
       "│ (<span style=\"color: #0087ff; text-decoration-color: #0087ff\">InputLayer</span>)        │                   │            │                   │\n",
       "├─────────────────────┼───────────────────┼────────────┼───────────────────┤\n",
       "│ embeding (<span style=\"color: #0087ff; text-decoration-color: #0087ff\">emded</span>)    │ (<span style=\"color: #00d7ff; text-decoration-color: #00d7ff\">None</span>, <span style=\"color: #00af00; text-decoration-color: #00af00\">96</span>, <span style=\"color: #00af00; text-decoration-color: #00af00\">256</span>)   │     <span style=\"color: #00af00; text-decoration-color: #00af00\">54,972</span> │ input_layer_28[<span style=\"color: #00af00; text-decoration-color: #00af00\">0</span>… │\n",
       "│                     │                   │            │ input_layer_29[<span style=\"color: #00af00; text-decoration-color: #00af00\">0</span>… │\n",
       "│                     │                   │            │ input_layer_30[<span style=\"color: #00af00; text-decoration-color: #00af00\">0</span>… │\n",
       "│                     │                   │            │ input_layer_31[<span style=\"color: #00af00; text-decoration-color: #00af00\">0</span>… │\n",
       "│                     │                   │            │ input_layer_32[<span style=\"color: #00af00; text-decoration-color: #00af00\">0</span>… │\n",
       "│                     │                   │            │ input_layer_33[<span style=\"color: #00af00; text-decoration-color: #00af00\">0</span>… │\n",
       "│                     │                   │            │ input_layer_34[<span style=\"color: #00af00; text-decoration-color: #00af00\">0</span>… │\n",
       "├─────────────────────┼───────────────────┼────────────┼───────────────────┤\n",
       "│ pos_1               │ (<span style=\"color: #00d7ff; text-decoration-color: #00d7ff\">None</span>, <span style=\"color: #00af00; text-decoration-color: #00af00\">96</span>, <span style=\"color: #00af00; text-decoration-color: #00af00\">256</span>)   │     <span style=\"color: #00af00; text-decoration-color: #00af00\">24,576</span> │ embeding[<span style=\"color: #00af00; text-decoration-color: #00af00\">0</span>][<span style=\"color: #00af00; text-decoration-color: #00af00\">0</span>]    │\n",
       "│ (<span style=\"color: #0087ff; text-decoration-color: #0087ff\">PositionEmbedding</span>) │                   │            │                   │\n",
       "├─────────────────────┼───────────────────┼────────────┼───────────────────┤\n",
       "│ encode_1 (<span style=\"color: #0087ff; text-decoration-color: #0087ff\">encode</span>)   │ (<span style=\"color: #00d7ff; text-decoration-color: #00d7ff\">None</span>, <span style=\"color: #00af00; text-decoration-color: #00af00\">96</span>, <span style=\"color: #00af00; text-decoration-color: #00af00\">256</span>)   │    <span style=\"color: #00af00; text-decoration-color: #00af00\">592,896</span> │ pos_1[<span style=\"color: #00af00; text-decoration-color: #00af00\">0</span>][<span style=\"color: #00af00; text-decoration-color: #00af00\">0</span>],      │\n",
       "│                     │                   │            │ pos_1[<span style=\"color: #00af00; text-decoration-color: #00af00\">0</span>][<span style=\"color: #00af00; text-decoration-color: #00af00\">0</span>]       │\n",
       "├─────────────────────┼───────────────────┼────────────┼───────────────────┤\n",
       "│ flatten_1           │ (<span style=\"color: #00d7ff; text-decoration-color: #00d7ff\">None</span>, <span style=\"color: #00af00; text-decoration-color: #00af00\">256</span>)       │          <span style=\"color: #00af00; text-decoration-color: #00af00\">0</span> │ encode_1[<span style=\"color: #00af00; text-decoration-color: #00af00\">0</span>][<span style=\"color: #00af00; text-decoration-color: #00af00\">0</span>]    │\n",
       "│ (<span style=\"color: #0087ff; text-decoration-color: #0087ff\">GlobalAveragePool…</span> │                   │            │                   │\n",
       "├─────────────────────┼───────────────────┼────────────┼───────────────────┤\n",
       "│ ffn_output_1        │ (<span style=\"color: #00d7ff; text-decoration-color: #00d7ff\">None</span>, <span style=\"color: #00af00; text-decoration-color: #00af00\">256</span>)       │     <span style=\"color: #00af00; text-decoration-color: #00af00\">66,304</span> │ flatten_1[<span style=\"color: #00af00; text-decoration-color: #00af00\">0</span>][<span style=\"color: #00af00; text-decoration-color: #00af00\">0</span>]   │\n",
       "│ (<span style=\"color: #0087ff; text-decoration-color: #0087ff\">output</span>)            │                   │            │                   │\n",
       "├─────────────────────┼───────────────────┼────────────┼───────────────────┤\n",
       "│ output (<span style=\"color: #0087ff; text-decoration-color: #0087ff\">Dense</span>)      │ (<span style=\"color: #00d7ff; text-decoration-color: #00d7ff\">None</span>, <span style=\"color: #00af00; text-decoration-color: #00af00\">1</span>)         │        <span style=\"color: #00af00; text-decoration-color: #00af00\">257</span> │ ffn_output_1[<span style=\"color: #00af00; text-decoration-color: #00af00\">0</span>][<span style=\"color: #00af00; text-decoration-color: #00af00\">…</span> │\n",
       "└─────────────────────┴───────────────────┴────────────┴───────────────────┘\n",
       "</pre>\n"
      ],
      "text/plain": [
       "┏━━━━━━━━━━━━━━━━━━━━━┳━━━━━━━━━━━━━━━━━━━┳━━━━━━━━━━━━┳━━━━━━━━━━━━━━━━━━━┓\n",
       "┃\u001b[1m \u001b[0m\u001b[1mLayer (type)       \u001b[0m\u001b[1m \u001b[0m┃\u001b[1m \u001b[0m\u001b[1mOutput Shape     \u001b[0m\u001b[1m \u001b[0m┃\u001b[1m \u001b[0m\u001b[1m   Param #\u001b[0m\u001b[1m \u001b[0m┃\u001b[1m \u001b[0m\u001b[1mConnected to     \u001b[0m\u001b[1m \u001b[0m┃\n",
       "┡━━━━━━━━━━━━━━━━━━━━━╇━━━━━━━━━━━━━━━━━━━╇━━━━━━━━━━━━╇━━━━━━━━━━━━━━━━━━━┩\n",
       "│ input_layer_28      │ (\u001b[38;5;45mNone\u001b[0m, \u001b[38;5;34m4\u001b[0m)         │          \u001b[38;5;34m0\u001b[0m │ -                 │\n",
       "│ (\u001b[38;5;33mInputLayer\u001b[0m)        │                   │            │                   │\n",
       "├─────────────────────┼───────────────────┼────────────┼───────────────────┤\n",
       "│ input_layer_29      │ (\u001b[38;5;45mNone\u001b[0m, \u001b[38;5;34m19\u001b[0m)        │          \u001b[38;5;34m0\u001b[0m │ -                 │\n",
       "│ (\u001b[38;5;33mInputLayer\u001b[0m)        │                   │            │                   │\n",
       "├─────────────────────┼───────────────────┼────────────┼───────────────────┤\n",
       "│ input_layer_30      │ (\u001b[38;5;45mNone\u001b[0m, \u001b[38;5;34m9\u001b[0m)         │          \u001b[38;5;34m0\u001b[0m │ -                 │\n",
       "│ (\u001b[38;5;33mInputLayer\u001b[0m)        │                   │            │                   │\n",
       "├─────────────────────┼───────────────────┼────────────┼───────────────────┤\n",
       "│ input_layer_31      │ (\u001b[38;5;45mNone\u001b[0m, \u001b[38;5;34m61\u001b[0m)        │          \u001b[38;5;34m0\u001b[0m │ -                 │\n",
       "│ (\u001b[38;5;33mInputLayer\u001b[0m)        │                   │            │                   │\n",
       "├─────────────────────┼───────────────────┼────────────┼───────────────────┤\n",
       "│ input_layer_32      │ (\u001b[38;5;45mNone\u001b[0m, \u001b[38;5;34m3\u001b[0m)         │          \u001b[38;5;34m0\u001b[0m │ -                 │\n",
       "│ (\u001b[38;5;33mInputLayer\u001b[0m)        │                   │            │                   │\n",
       "├─────────────────────┼───────────────────┼────────────┼───────────────────┤\n",
       "│ input_layer_33      │ (\u001b[38;5;45mNone\u001b[0m, \u001b[38;5;34m131\u001b[0m)       │          \u001b[38;5;34m0\u001b[0m │ -                 │\n",
       "│ (\u001b[38;5;33mInputLayer\u001b[0m)        │                   │            │                   │\n",
       "├─────────────────────┼───────────────────┼────────────┼───────────────────┤\n",
       "│ input_layer_34      │ (\u001b[38;5;45mNone\u001b[0m, \u001b[38;5;34m5\u001b[0m)         │          \u001b[38;5;34m0\u001b[0m │ -                 │\n",
       "│ (\u001b[38;5;33mInputLayer\u001b[0m)        │                   │            │                   │\n",
       "├─────────────────────┼───────────────────┼────────────┼───────────────────┤\n",
       "│ embeding (\u001b[38;5;33memded\u001b[0m)    │ (\u001b[38;5;45mNone\u001b[0m, \u001b[38;5;34m96\u001b[0m, \u001b[38;5;34m256\u001b[0m)   │     \u001b[38;5;34m54,972\u001b[0m │ input_layer_28[\u001b[38;5;34m0\u001b[0m… │\n",
       "│                     │                   │            │ input_layer_29[\u001b[38;5;34m0\u001b[0m… │\n",
       "│                     │                   │            │ input_layer_30[\u001b[38;5;34m0\u001b[0m… │\n",
       "│                     │                   │            │ input_layer_31[\u001b[38;5;34m0\u001b[0m… │\n",
       "│                     │                   │            │ input_layer_32[\u001b[38;5;34m0\u001b[0m… │\n",
       "│                     │                   │            │ input_layer_33[\u001b[38;5;34m0\u001b[0m… │\n",
       "│                     │                   │            │ input_layer_34[\u001b[38;5;34m0\u001b[0m… │\n",
       "├─────────────────────┼───────────────────┼────────────┼───────────────────┤\n",
       "│ pos_1               │ (\u001b[38;5;45mNone\u001b[0m, \u001b[38;5;34m96\u001b[0m, \u001b[38;5;34m256\u001b[0m)   │     \u001b[38;5;34m24,576\u001b[0m │ embeding[\u001b[38;5;34m0\u001b[0m][\u001b[38;5;34m0\u001b[0m]    │\n",
       "│ (\u001b[38;5;33mPositionEmbedding\u001b[0m) │                   │            │                   │\n",
       "├─────────────────────┼───────────────────┼────────────┼───────────────────┤\n",
       "│ encode_1 (\u001b[38;5;33mencode\u001b[0m)   │ (\u001b[38;5;45mNone\u001b[0m, \u001b[38;5;34m96\u001b[0m, \u001b[38;5;34m256\u001b[0m)   │    \u001b[38;5;34m592,896\u001b[0m │ pos_1[\u001b[38;5;34m0\u001b[0m][\u001b[38;5;34m0\u001b[0m],      │\n",
       "│                     │                   │            │ pos_1[\u001b[38;5;34m0\u001b[0m][\u001b[38;5;34m0\u001b[0m]       │\n",
       "├─────────────────────┼───────────────────┼────────────┼───────────────────┤\n",
       "│ flatten_1           │ (\u001b[38;5;45mNone\u001b[0m, \u001b[38;5;34m256\u001b[0m)       │          \u001b[38;5;34m0\u001b[0m │ encode_1[\u001b[38;5;34m0\u001b[0m][\u001b[38;5;34m0\u001b[0m]    │\n",
       "│ (\u001b[38;5;33mGlobalAveragePool…\u001b[0m │                   │            │                   │\n",
       "├─────────────────────┼───────────────────┼────────────┼───────────────────┤\n",
       "│ ffn_output_1        │ (\u001b[38;5;45mNone\u001b[0m, \u001b[38;5;34m256\u001b[0m)       │     \u001b[38;5;34m66,304\u001b[0m │ flatten_1[\u001b[38;5;34m0\u001b[0m][\u001b[38;5;34m0\u001b[0m]   │\n",
       "│ (\u001b[38;5;33moutput\u001b[0m)            │                   │            │                   │\n",
       "├─────────────────────┼───────────────────┼────────────┼───────────────────┤\n",
       "│ output (\u001b[38;5;33mDense\u001b[0m)      │ (\u001b[38;5;45mNone\u001b[0m, \u001b[38;5;34m1\u001b[0m)         │        \u001b[38;5;34m257\u001b[0m │ ffn_output_1[\u001b[38;5;34m0\u001b[0m][\u001b[38;5;34m…\u001b[0m │\n",
       "└─────────────────────┴───────────────────┴────────────┴───────────────────┘\n"
      ]
     },
     "metadata": {},
     "output_type": "display_data"
    },
    {
     "data": {
      "text/html": [
       "<pre style=\"white-space:pre;overflow-x:auto;line-height:normal;font-family:Menlo,'DejaVu Sans Mono',consolas,'Courier New',monospace\"><span style=\"font-weight: bold\"> Total params: </span><span style=\"color: #00af00; text-decoration-color: #00af00\">739,005</span> (2.82 MB)\n",
       "</pre>\n"
      ],
      "text/plain": [
       "\u001b[1m Total params: \u001b[0m\u001b[38;5;34m739,005\u001b[0m (2.82 MB)\n"
      ]
     },
     "metadata": {},
     "output_type": "display_data"
    },
    {
     "data": {
      "text/html": [
       "<pre style=\"white-space:pre;overflow-x:auto;line-height:normal;font-family:Menlo,'DejaVu Sans Mono',consolas,'Courier New',monospace\"><span style=\"font-weight: bold\"> Trainable params: </span><span style=\"color: #00af00; text-decoration-color: #00af00\">739,005</span> (2.82 MB)\n",
       "</pre>\n"
      ],
      "text/plain": [
       "\u001b[1m Trainable params: \u001b[0m\u001b[38;5;34m739,005\u001b[0m (2.82 MB)\n"
      ]
     },
     "metadata": {},
     "output_type": "display_data"
    },
    {
     "data": {
      "text/html": [
       "<pre style=\"white-space:pre;overflow-x:auto;line-height:normal;font-family:Menlo,'DejaVu Sans Mono',consolas,'Courier New',monospace\"><span style=\"font-weight: bold\"> Non-trainable params: </span><span style=\"color: #00af00; text-decoration-color: #00af00\">0</span> (0.00 B)\n",
       "</pre>\n"
      ],
      "text/plain": [
       "\u001b[1m Non-trainable params: \u001b[0m\u001b[38;5;34m0\u001b[0m (0.00 B)\n"
      ]
     },
     "metadata": {},
     "output_type": "display_data"
    }
   ],
   "source": [
    "input1_ = Input(shape=(4,))\n",
    "input2_ = Input(shape=(19,))\n",
    "input3_ = Input(shape=(9,))\n",
    "input4_ = Input(shape=(61,))\n",
    "input5_ = Input(shape=(3,))\n",
    "input6_ = Input(shape=(131,))\n",
    "input7_ = Input(shape=(5,))\n",
    "\n",
    "\n",
    "emded_ = emded(\"embeding\", 256)([input1_,input2_,input3_,input4_,input5_,input6_,input7_])\n",
    "\n",
    "pos_ = PositionEmbedding(sequence_length=emded_.shape[1], d_model = 256,name_ = \"pos_1\")(emded_)\n",
    "\n",
    "encode1_ = encode(deep_ = 256, num_head_ = 2, dropout_rate_ = 0.2, name_=\"encode_1\")([pos_,pos_])\n",
    "\n",
    "flatten_ = GlobalAveragePooling1D(name=\"flatten_1\")(encode1_)\n",
    "\n",
    "out1_ = output(dropout_rate = 0.2, deep_ = 256, name_ = \"ffn_output_1\")(flatten_)\n",
    "\n",
    "out_full_ = Dense(1,activity_regularizer = regularizers.l2(0.0001),activation='sigmoid',name=\"output\")(out1_)\n",
    "\n",
    "model_ = Model([input1_,input2_,input3_,input4_,input5_,input6_,input7_],out_full_,name=\"test_model\")\n",
    "model_.summary()"
   ]
  },
  {
   "cell_type": "code",
   "execution_count": 112,
   "id": "4baa4b00",
   "metadata": {},
   "outputs": [],
   "source": [
    "threshold_ = 0.6\n",
    "\n",
    "opt = tf.keras.optimizers.Adam(learning_rate=1e-4,clipnorm=1.0)\n",
    "loss = tf.keras.losses.BinaryCrossentropy(label_smoothing=0.1)\n",
    "\n",
    "class F1Score(tf.keras.metrics.Metric):\n",
    "    def __init__(self, name=\"f1_score\", threshold=threshold_, **kwargs):\n",
    "        super(F1Score, self).__init__(name=name, **kwargs)\n",
    "        self.threshold = threshold\n",
    "        self.true_positives = self.add_weight(name=\"tp\", initializer=\"zeros\")\n",
    "        self.false_positives = self.add_weight(name=\"fp\", initializer=\"zeros\")\n",
    "        self.false_negatives = self.add_weight(name=\"fn\", initializer=\"zeros\")\n",
    "\n",
    "    def update_state(self, y_true, y_pred, sample_weight=None):\n",
    "        y_pred = tf.cast(y_pred > self.threshold, tf.float32)  # Chuyển xác suất thành nhãn 0-1\n",
    "        y_true = tf.cast(y_true, tf.float32)\n",
    "\n",
    "        tp = tf.reduce_sum(y_true * y_pred)  # True Positives\n",
    "        fp = tf.reduce_sum((1 - y_true) * y_pred)  # False Positives\n",
    "        fn = tf.reduce_sum(y_true * (1 - y_pred))  # False Negatives\n",
    "\n",
    "        self.true_positives.assign_add(tp)\n",
    "        self.false_positives.assign_add(fp)\n",
    "        self.false_negatives.assign_add(fn)\n",
    "\n",
    "    def result(self):\n",
    "        precision = self.true_positives / (self.true_positives + self.false_positives + tf.keras.backend.epsilon())\n",
    "        recall = self.true_positives / (self.true_positives + self.false_negatives + tf.keras.backend.epsilon())\n",
    "        return 2 * (precision * recall) / (precision + recall + tf.keras.backend.epsilon())\n",
    "\n",
    "    def reset_state(self):\n",
    "        self.true_positives.assign(0)\n",
    "        self.false_positives.assign(0)\n",
    "        self.false_negatives.assign(0)"
   ]
  },
  {
   "cell_type": "code",
   "execution_count": 113,
   "id": "7612b7ff",
   "metadata": {},
   "outputs": [],
   "source": [
    "model_.load_weights(\"model_weights.weights.h5\")\n",
    "model_.compile(optimizer=opt,loss=loss,metrics=[F1Score(),BinaryAccuracy(),Recall(),Precision()])"
   ]
  },
  {
   "cell_type": "code",
   "execution_count": 114,
   "id": "31110b1a",
   "metadata": {},
   "outputs": [
    {
     "name": "stdout",
     "output_type": "stream",
     "text": [
      "Epoch 1/100\n"
     ]
    },
    {
     "name": "stderr",
     "output_type": "stream",
     "text": [
      "d:\\appSetting\\codeSdk\\python\\Lib\\site-packages\\keras\\src\\optimizers\\base_optimizer.py:735: UserWarning: Gradients do not exist for variables ['embeding/embedding_33/embeddings', 'embeding/embedding_34/embeddings'] when minimizing the loss. If using `model.compile()`, did you forget to provide a `loss` argument?\n",
      "  warnings.warn(\n"
     ]
    },
    {
     "name": "stdout",
     "output_type": "stream",
     "text": [
      "\u001b[1m 42/282\u001b[0m \u001b[32m━━\u001b[0m\u001b[37m━━━━━━━━━━━━━━━━━━\u001b[0m \u001b[1m18s\u001b[0m 79ms/step - binary_accuracy: 0.9404 - f1_score: 0.9061 - loss: 0.3135 - precision_4: 0.8738 - recall_4: 0.9409"
     ]
    },
    {
     "ename": "KeyboardInterrupt",
     "evalue": "",
     "output_type": "error",
     "traceback": [
      "\u001b[1;31m---------------------------------------------------------------------------\u001b[0m",
      "\u001b[1;31mKeyboardInterrupt\u001b[0m                         Traceback (most recent call last)",
      "Cell \u001b[1;32mIn[114], line 1\u001b[0m\n\u001b[1;32m----> 1\u001b[0m h_ \u001b[38;5;241m=\u001b[39m \u001b[43mmodel_\u001b[49m\u001b[38;5;241;43m.\u001b[39;49m\u001b[43mfit\u001b[49m\u001b[43m(\u001b[49m\n\u001b[0;32m      2\u001b[0m \u001b[43m    \u001b[49m\u001b[43m[\u001b[49m\u001b[43mdata_x1_\u001b[49m\u001b[43m,\u001b[49m\u001b[43mdata_x2_\u001b[49m\u001b[43m,\u001b[49m\u001b[43mdata_x3_\u001b[49m\u001b[43m,\u001b[49m\u001b[43mdata_x4_\u001b[49m\u001b[43m,\u001b[49m\u001b[43mdata_x5_\u001b[49m\u001b[43m,\u001b[49m\u001b[43mdata_x6_\u001b[49m\u001b[43m,\u001b[49m\u001b[43mdata_x7_\u001b[49m\u001b[43m]\u001b[49m\u001b[43m,\u001b[49m\u001b[43mdata_y_\u001b[49m\u001b[43m,\u001b[49m\n\u001b[0;32m      3\u001b[0m \u001b[43m    \u001b[49m\u001b[43mepochs\u001b[49m\u001b[43m \u001b[49m\u001b[38;5;241;43m=\u001b[39;49m\u001b[43m \u001b[49m\u001b[38;5;241;43m100\u001b[39;49m\u001b[43m,\u001b[49m\n\u001b[0;32m      4\u001b[0m \u001b[43m    \u001b[49m\u001b[43mvalidation_split\u001b[49m\u001b[43m \u001b[49m\u001b[38;5;241;43m=\u001b[39;49m\u001b[43m \u001b[49m\u001b[38;5;241;43m0.1\u001b[39;49m\n\u001b[0;32m      5\u001b[0m \u001b[43m)\u001b[49m \n",
      "File \u001b[1;32md:\\appSetting\\codeSdk\\python\\Lib\\site-packages\\keras\\src\\utils\\traceback_utils.py:117\u001b[0m, in \u001b[0;36mfilter_traceback.<locals>.error_handler\u001b[1;34m(*args, **kwargs)\u001b[0m\n\u001b[0;32m    115\u001b[0m filtered_tb \u001b[38;5;241m=\u001b[39m \u001b[38;5;28;01mNone\u001b[39;00m\n\u001b[0;32m    116\u001b[0m \u001b[38;5;28;01mtry\u001b[39;00m:\n\u001b[1;32m--> 117\u001b[0m     \u001b[38;5;28;01mreturn\u001b[39;00m \u001b[43mfn\u001b[49m\u001b[43m(\u001b[49m\u001b[38;5;241;43m*\u001b[39;49m\u001b[43margs\u001b[49m\u001b[43m,\u001b[49m\u001b[43m \u001b[49m\u001b[38;5;241;43m*\u001b[39;49m\u001b[38;5;241;43m*\u001b[39;49m\u001b[43mkwargs\u001b[49m\u001b[43m)\u001b[49m\n\u001b[0;32m    118\u001b[0m \u001b[38;5;28;01mexcept\u001b[39;00m \u001b[38;5;167;01mException\u001b[39;00m \u001b[38;5;28;01mas\u001b[39;00m e:\n\u001b[0;32m    119\u001b[0m     filtered_tb \u001b[38;5;241m=\u001b[39m _process_traceback_frames(e\u001b[38;5;241m.\u001b[39m__traceback__)\n",
      "File \u001b[1;32md:\\appSetting\\codeSdk\\python\\Lib\\site-packages\\keras\\src\\backend\\tensorflow\\trainer.py:368\u001b[0m, in \u001b[0;36mTensorFlowTrainer.fit\u001b[1;34m(self, x, y, batch_size, epochs, verbose, callbacks, validation_split, validation_data, shuffle, class_weight, sample_weight, initial_epoch, steps_per_epoch, validation_steps, validation_batch_size, validation_freq)\u001b[0m\n\u001b[0;32m    366\u001b[0m \u001b[38;5;28;01mfor\u001b[39;00m step, iterator \u001b[38;5;129;01min\u001b[39;00m epoch_iterator:\n\u001b[0;32m    367\u001b[0m     callbacks\u001b[38;5;241m.\u001b[39mon_train_batch_begin(step)\n\u001b[1;32m--> 368\u001b[0m     logs \u001b[38;5;241m=\u001b[39m \u001b[38;5;28;43mself\u001b[39;49m\u001b[38;5;241;43m.\u001b[39;49m\u001b[43mtrain_function\u001b[49m\u001b[43m(\u001b[49m\u001b[43miterator\u001b[49m\u001b[43m)\u001b[49m\n\u001b[0;32m    369\u001b[0m     callbacks\u001b[38;5;241m.\u001b[39mon_train_batch_end(step, logs)\n\u001b[0;32m    370\u001b[0m     \u001b[38;5;28;01mif\u001b[39;00m \u001b[38;5;28mself\u001b[39m\u001b[38;5;241m.\u001b[39mstop_training:\n",
      "File \u001b[1;32md:\\appSetting\\codeSdk\\python\\Lib\\site-packages\\keras\\src\\backend\\tensorflow\\trainer.py:216\u001b[0m, in \u001b[0;36mTensorFlowTrainer._make_function.<locals>.function\u001b[1;34m(iterator)\u001b[0m\n\u001b[0;32m    212\u001b[0m \u001b[38;5;28;01mdef\u001b[39;00m \u001b[38;5;21mfunction\u001b[39m(iterator):\n\u001b[0;32m    213\u001b[0m     \u001b[38;5;28;01mif\u001b[39;00m \u001b[38;5;28misinstance\u001b[39m(\n\u001b[0;32m    214\u001b[0m         iterator, (tf\u001b[38;5;241m.\u001b[39mdata\u001b[38;5;241m.\u001b[39mIterator, tf\u001b[38;5;241m.\u001b[39mdistribute\u001b[38;5;241m.\u001b[39mDistributedIterator)\n\u001b[0;32m    215\u001b[0m     ):\n\u001b[1;32m--> 216\u001b[0m         opt_outputs \u001b[38;5;241m=\u001b[39m \u001b[43mmulti_step_on_iterator\u001b[49m\u001b[43m(\u001b[49m\u001b[43miterator\u001b[49m\u001b[43m)\u001b[49m\n\u001b[0;32m    217\u001b[0m         \u001b[38;5;28;01mif\u001b[39;00m \u001b[38;5;129;01mnot\u001b[39;00m opt_outputs\u001b[38;5;241m.\u001b[39mhas_value():\n\u001b[0;32m    218\u001b[0m             \u001b[38;5;28;01mraise\u001b[39;00m \u001b[38;5;167;01mStopIteration\u001b[39;00m\n",
      "File \u001b[1;32md:\\appSetting\\codeSdk\\python\\Lib\\site-packages\\tensorflow\\python\\util\\traceback_utils.py:150\u001b[0m, in \u001b[0;36mfilter_traceback.<locals>.error_handler\u001b[1;34m(*args, **kwargs)\u001b[0m\n\u001b[0;32m    148\u001b[0m filtered_tb \u001b[38;5;241m=\u001b[39m \u001b[38;5;28;01mNone\u001b[39;00m\n\u001b[0;32m    149\u001b[0m \u001b[38;5;28;01mtry\u001b[39;00m:\n\u001b[1;32m--> 150\u001b[0m   \u001b[38;5;28;01mreturn\u001b[39;00m \u001b[43mfn\u001b[49m\u001b[43m(\u001b[49m\u001b[38;5;241;43m*\u001b[39;49m\u001b[43margs\u001b[49m\u001b[43m,\u001b[49m\u001b[43m \u001b[49m\u001b[38;5;241;43m*\u001b[39;49m\u001b[38;5;241;43m*\u001b[39;49m\u001b[43mkwargs\u001b[49m\u001b[43m)\u001b[49m\n\u001b[0;32m    151\u001b[0m \u001b[38;5;28;01mexcept\u001b[39;00m \u001b[38;5;167;01mException\u001b[39;00m \u001b[38;5;28;01mas\u001b[39;00m e:\n\u001b[0;32m    152\u001b[0m   filtered_tb \u001b[38;5;241m=\u001b[39m _process_traceback_frames(e\u001b[38;5;241m.\u001b[39m__traceback__)\n",
      "File \u001b[1;32md:\\appSetting\\codeSdk\\python\\Lib\\site-packages\\tensorflow\\python\\eager\\polymorphic_function\\polymorphic_function.py:833\u001b[0m, in \u001b[0;36mFunction.__call__\u001b[1;34m(self, *args, **kwds)\u001b[0m\n\u001b[0;32m    830\u001b[0m compiler \u001b[38;5;241m=\u001b[39m \u001b[38;5;124m\"\u001b[39m\u001b[38;5;124mxla\u001b[39m\u001b[38;5;124m\"\u001b[39m \u001b[38;5;28;01mif\u001b[39;00m \u001b[38;5;28mself\u001b[39m\u001b[38;5;241m.\u001b[39m_jit_compile \u001b[38;5;28;01melse\u001b[39;00m \u001b[38;5;124m\"\u001b[39m\u001b[38;5;124mnonXla\u001b[39m\u001b[38;5;124m\"\u001b[39m\n\u001b[0;32m    832\u001b[0m \u001b[38;5;28;01mwith\u001b[39;00m OptionalXlaContext(\u001b[38;5;28mself\u001b[39m\u001b[38;5;241m.\u001b[39m_jit_compile):\n\u001b[1;32m--> 833\u001b[0m   result \u001b[38;5;241m=\u001b[39m \u001b[38;5;28;43mself\u001b[39;49m\u001b[38;5;241;43m.\u001b[39;49m\u001b[43m_call\u001b[49m\u001b[43m(\u001b[49m\u001b[38;5;241;43m*\u001b[39;49m\u001b[43margs\u001b[49m\u001b[43m,\u001b[49m\u001b[43m \u001b[49m\u001b[38;5;241;43m*\u001b[39;49m\u001b[38;5;241;43m*\u001b[39;49m\u001b[43mkwds\u001b[49m\u001b[43m)\u001b[49m\n\u001b[0;32m    835\u001b[0m new_tracing_count \u001b[38;5;241m=\u001b[39m \u001b[38;5;28mself\u001b[39m\u001b[38;5;241m.\u001b[39mexperimental_get_tracing_count()\n\u001b[0;32m    836\u001b[0m without_tracing \u001b[38;5;241m=\u001b[39m (tracing_count \u001b[38;5;241m==\u001b[39m new_tracing_count)\n",
      "File \u001b[1;32md:\\appSetting\\codeSdk\\python\\Lib\\site-packages\\tensorflow\\python\\eager\\polymorphic_function\\polymorphic_function.py:878\u001b[0m, in \u001b[0;36mFunction._call\u001b[1;34m(self, *args, **kwds)\u001b[0m\n\u001b[0;32m    875\u001b[0m \u001b[38;5;28mself\u001b[39m\u001b[38;5;241m.\u001b[39m_lock\u001b[38;5;241m.\u001b[39mrelease()\n\u001b[0;32m    876\u001b[0m \u001b[38;5;66;03m# In this case we have not created variables on the first call. So we can\u001b[39;00m\n\u001b[0;32m    877\u001b[0m \u001b[38;5;66;03m# run the first trace but we should fail if variables are created.\u001b[39;00m\n\u001b[1;32m--> 878\u001b[0m results \u001b[38;5;241m=\u001b[39m \u001b[43mtracing_compilation\u001b[49m\u001b[38;5;241;43m.\u001b[39;49m\u001b[43mcall_function\u001b[49m\u001b[43m(\u001b[49m\n\u001b[0;32m    879\u001b[0m \u001b[43m    \u001b[49m\u001b[43margs\u001b[49m\u001b[43m,\u001b[49m\u001b[43m \u001b[49m\u001b[43mkwds\u001b[49m\u001b[43m,\u001b[49m\u001b[43m \u001b[49m\u001b[38;5;28;43mself\u001b[39;49m\u001b[38;5;241;43m.\u001b[39;49m\u001b[43m_variable_creation_config\u001b[49m\n\u001b[0;32m    880\u001b[0m \u001b[43m\u001b[49m\u001b[43m)\u001b[49m\n\u001b[0;32m    881\u001b[0m \u001b[38;5;28;01mif\u001b[39;00m \u001b[38;5;28mself\u001b[39m\u001b[38;5;241m.\u001b[39m_created_variables:\n\u001b[0;32m    882\u001b[0m   \u001b[38;5;28;01mraise\u001b[39;00m \u001b[38;5;167;01mValueError\u001b[39;00m(\u001b[38;5;124m\"\u001b[39m\u001b[38;5;124mCreating variables on a non-first call to a function\u001b[39m\u001b[38;5;124m\"\u001b[39m\n\u001b[0;32m    883\u001b[0m                    \u001b[38;5;124m\"\u001b[39m\u001b[38;5;124m decorated with tf.function.\u001b[39m\u001b[38;5;124m\"\u001b[39m)\n",
      "File \u001b[1;32md:\\appSetting\\codeSdk\\python\\Lib\\site-packages\\tensorflow\\python\\eager\\polymorphic_function\\tracing_compilation.py:139\u001b[0m, in \u001b[0;36mcall_function\u001b[1;34m(args, kwargs, tracing_options)\u001b[0m\n\u001b[0;32m    137\u001b[0m bound_args \u001b[38;5;241m=\u001b[39m function\u001b[38;5;241m.\u001b[39mfunction_type\u001b[38;5;241m.\u001b[39mbind(\u001b[38;5;241m*\u001b[39margs, \u001b[38;5;241m*\u001b[39m\u001b[38;5;241m*\u001b[39mkwargs)\n\u001b[0;32m    138\u001b[0m flat_inputs \u001b[38;5;241m=\u001b[39m function\u001b[38;5;241m.\u001b[39mfunction_type\u001b[38;5;241m.\u001b[39munpack_inputs(bound_args)\n\u001b[1;32m--> 139\u001b[0m \u001b[38;5;28;01mreturn\u001b[39;00m \u001b[43mfunction\u001b[49m\u001b[38;5;241;43m.\u001b[39;49m\u001b[43m_call_flat\u001b[49m\u001b[43m(\u001b[49m\u001b[43m  \u001b[49m\u001b[38;5;66;43;03m# pylint: disable=protected-access\u001b[39;49;00m\n\u001b[0;32m    140\u001b[0m \u001b[43m    \u001b[49m\u001b[43mflat_inputs\u001b[49m\u001b[43m,\u001b[49m\u001b[43m \u001b[49m\u001b[43mcaptured_inputs\u001b[49m\u001b[38;5;241;43m=\u001b[39;49m\u001b[43mfunction\u001b[49m\u001b[38;5;241;43m.\u001b[39;49m\u001b[43mcaptured_inputs\u001b[49m\n\u001b[0;32m    141\u001b[0m \u001b[43m\u001b[49m\u001b[43m)\u001b[49m\n",
      "File \u001b[1;32md:\\appSetting\\codeSdk\\python\\Lib\\site-packages\\tensorflow\\python\\eager\\polymorphic_function\\concrete_function.py:1322\u001b[0m, in \u001b[0;36mConcreteFunction._call_flat\u001b[1;34m(self, tensor_inputs, captured_inputs)\u001b[0m\n\u001b[0;32m   1318\u001b[0m possible_gradient_type \u001b[38;5;241m=\u001b[39m gradients_util\u001b[38;5;241m.\u001b[39mPossibleTapeGradientTypes(args)\n\u001b[0;32m   1319\u001b[0m \u001b[38;5;28;01mif\u001b[39;00m (possible_gradient_type \u001b[38;5;241m==\u001b[39m gradients_util\u001b[38;5;241m.\u001b[39mPOSSIBLE_GRADIENT_TYPES_NONE\n\u001b[0;32m   1320\u001b[0m     \u001b[38;5;129;01mand\u001b[39;00m executing_eagerly):\n\u001b[0;32m   1321\u001b[0m   \u001b[38;5;66;03m# No tape is watching; skip to running the function.\u001b[39;00m\n\u001b[1;32m-> 1322\u001b[0m   \u001b[38;5;28;01mreturn\u001b[39;00m \u001b[38;5;28;43mself\u001b[39;49m\u001b[38;5;241;43m.\u001b[39;49m\u001b[43m_inference_function\u001b[49m\u001b[38;5;241;43m.\u001b[39;49m\u001b[43mcall_preflattened\u001b[49m\u001b[43m(\u001b[49m\u001b[43margs\u001b[49m\u001b[43m)\u001b[49m\n\u001b[0;32m   1323\u001b[0m forward_backward \u001b[38;5;241m=\u001b[39m \u001b[38;5;28mself\u001b[39m\u001b[38;5;241m.\u001b[39m_select_forward_and_backward_functions(\n\u001b[0;32m   1324\u001b[0m     args,\n\u001b[0;32m   1325\u001b[0m     possible_gradient_type,\n\u001b[0;32m   1326\u001b[0m     executing_eagerly)\n\u001b[0;32m   1327\u001b[0m forward_function, args_with_tangents \u001b[38;5;241m=\u001b[39m forward_backward\u001b[38;5;241m.\u001b[39mforward()\n",
      "File \u001b[1;32md:\\appSetting\\codeSdk\\python\\Lib\\site-packages\\tensorflow\\python\\eager\\polymorphic_function\\atomic_function.py:216\u001b[0m, in \u001b[0;36mAtomicFunction.call_preflattened\u001b[1;34m(self, args)\u001b[0m\n\u001b[0;32m    214\u001b[0m \u001b[38;5;28;01mdef\u001b[39;00m \u001b[38;5;21mcall_preflattened\u001b[39m(\u001b[38;5;28mself\u001b[39m, args: Sequence[core\u001b[38;5;241m.\u001b[39mTensor]) \u001b[38;5;241m-\u001b[39m\u001b[38;5;241m>\u001b[39m Any:\n\u001b[0;32m    215\u001b[0m \u001b[38;5;250m  \u001b[39m\u001b[38;5;124;03m\"\"\"Calls with flattened tensor inputs and returns the structured output.\"\"\"\u001b[39;00m\n\u001b[1;32m--> 216\u001b[0m   flat_outputs \u001b[38;5;241m=\u001b[39m \u001b[38;5;28;43mself\u001b[39;49m\u001b[38;5;241;43m.\u001b[39;49m\u001b[43mcall_flat\u001b[49m\u001b[43m(\u001b[49m\u001b[38;5;241;43m*\u001b[39;49m\u001b[43margs\u001b[49m\u001b[43m)\u001b[49m\n\u001b[0;32m    217\u001b[0m   \u001b[38;5;28;01mreturn\u001b[39;00m \u001b[38;5;28mself\u001b[39m\u001b[38;5;241m.\u001b[39mfunction_type\u001b[38;5;241m.\u001b[39mpack_output(flat_outputs)\n",
      "File \u001b[1;32md:\\appSetting\\codeSdk\\python\\Lib\\site-packages\\tensorflow\\python\\eager\\polymorphic_function\\atomic_function.py:251\u001b[0m, in \u001b[0;36mAtomicFunction.call_flat\u001b[1;34m(self, *args)\u001b[0m\n\u001b[0;32m    249\u001b[0m \u001b[38;5;28;01mwith\u001b[39;00m record\u001b[38;5;241m.\u001b[39mstop_recording():\n\u001b[0;32m    250\u001b[0m   \u001b[38;5;28;01mif\u001b[39;00m \u001b[38;5;28mself\u001b[39m\u001b[38;5;241m.\u001b[39m_bound_context\u001b[38;5;241m.\u001b[39mexecuting_eagerly():\n\u001b[1;32m--> 251\u001b[0m     outputs \u001b[38;5;241m=\u001b[39m \u001b[38;5;28;43mself\u001b[39;49m\u001b[38;5;241;43m.\u001b[39;49m\u001b[43m_bound_context\u001b[49m\u001b[38;5;241;43m.\u001b[39;49m\u001b[43mcall_function\u001b[49m\u001b[43m(\u001b[49m\n\u001b[0;32m    252\u001b[0m \u001b[43m        \u001b[49m\u001b[38;5;28;43mself\u001b[39;49m\u001b[38;5;241;43m.\u001b[39;49m\u001b[43mname\u001b[49m\u001b[43m,\u001b[49m\n\u001b[0;32m    253\u001b[0m \u001b[43m        \u001b[49m\u001b[38;5;28;43mlist\u001b[39;49m\u001b[43m(\u001b[49m\u001b[43margs\u001b[49m\u001b[43m)\u001b[49m\u001b[43m,\u001b[49m\n\u001b[0;32m    254\u001b[0m \u001b[43m        \u001b[49m\u001b[38;5;28;43mlen\u001b[39;49m\u001b[43m(\u001b[49m\u001b[38;5;28;43mself\u001b[39;49m\u001b[38;5;241;43m.\u001b[39;49m\u001b[43mfunction_type\u001b[49m\u001b[38;5;241;43m.\u001b[39;49m\u001b[43mflat_outputs\u001b[49m\u001b[43m)\u001b[49m\u001b[43m,\u001b[49m\n\u001b[0;32m    255\u001b[0m \u001b[43m    \u001b[49m\u001b[43m)\u001b[49m\n\u001b[0;32m    256\u001b[0m   \u001b[38;5;28;01melse\u001b[39;00m:\n\u001b[0;32m    257\u001b[0m     outputs \u001b[38;5;241m=\u001b[39m make_call_op_in_graph(\n\u001b[0;32m    258\u001b[0m         \u001b[38;5;28mself\u001b[39m,\n\u001b[0;32m    259\u001b[0m         \u001b[38;5;28mlist\u001b[39m(args),\n\u001b[0;32m    260\u001b[0m         \u001b[38;5;28mself\u001b[39m\u001b[38;5;241m.\u001b[39m_bound_context\u001b[38;5;241m.\u001b[39mfunction_call_options\u001b[38;5;241m.\u001b[39mas_attrs(),\n\u001b[0;32m    261\u001b[0m     )\n",
      "File \u001b[1;32md:\\appSetting\\codeSdk\\python\\Lib\\site-packages\\tensorflow\\python\\eager\\context.py:1552\u001b[0m, in \u001b[0;36mContext.call_function\u001b[1;34m(self, name, tensor_inputs, num_outputs)\u001b[0m\n\u001b[0;32m   1550\u001b[0m cancellation_context \u001b[38;5;241m=\u001b[39m cancellation\u001b[38;5;241m.\u001b[39mcontext()\n\u001b[0;32m   1551\u001b[0m \u001b[38;5;28;01mif\u001b[39;00m cancellation_context \u001b[38;5;129;01mis\u001b[39;00m \u001b[38;5;28;01mNone\u001b[39;00m:\n\u001b[1;32m-> 1552\u001b[0m   outputs \u001b[38;5;241m=\u001b[39m \u001b[43mexecute\u001b[49m\u001b[38;5;241;43m.\u001b[39;49m\u001b[43mexecute\u001b[49m\u001b[43m(\u001b[49m\n\u001b[0;32m   1553\u001b[0m \u001b[43m      \u001b[49m\u001b[43mname\u001b[49m\u001b[38;5;241;43m.\u001b[39;49m\u001b[43mdecode\u001b[49m\u001b[43m(\u001b[49m\u001b[38;5;124;43m\"\u001b[39;49m\u001b[38;5;124;43mutf-8\u001b[39;49m\u001b[38;5;124;43m\"\u001b[39;49m\u001b[43m)\u001b[49m\u001b[43m,\u001b[49m\n\u001b[0;32m   1554\u001b[0m \u001b[43m      \u001b[49m\u001b[43mnum_outputs\u001b[49m\u001b[38;5;241;43m=\u001b[39;49m\u001b[43mnum_outputs\u001b[49m\u001b[43m,\u001b[49m\n\u001b[0;32m   1555\u001b[0m \u001b[43m      \u001b[49m\u001b[43minputs\u001b[49m\u001b[38;5;241;43m=\u001b[39;49m\u001b[43mtensor_inputs\u001b[49m\u001b[43m,\u001b[49m\n\u001b[0;32m   1556\u001b[0m \u001b[43m      \u001b[49m\u001b[43mattrs\u001b[49m\u001b[38;5;241;43m=\u001b[39;49m\u001b[43mattrs\u001b[49m\u001b[43m,\u001b[49m\n\u001b[0;32m   1557\u001b[0m \u001b[43m      \u001b[49m\u001b[43mctx\u001b[49m\u001b[38;5;241;43m=\u001b[39;49m\u001b[38;5;28;43mself\u001b[39;49m\u001b[43m,\u001b[49m\n\u001b[0;32m   1558\u001b[0m \u001b[43m  \u001b[49m\u001b[43m)\u001b[49m\n\u001b[0;32m   1559\u001b[0m \u001b[38;5;28;01melse\u001b[39;00m:\n\u001b[0;32m   1560\u001b[0m   outputs \u001b[38;5;241m=\u001b[39m execute\u001b[38;5;241m.\u001b[39mexecute_with_cancellation(\n\u001b[0;32m   1561\u001b[0m       name\u001b[38;5;241m.\u001b[39mdecode(\u001b[38;5;124m\"\u001b[39m\u001b[38;5;124mutf-8\u001b[39m\u001b[38;5;124m\"\u001b[39m),\n\u001b[0;32m   1562\u001b[0m       num_outputs\u001b[38;5;241m=\u001b[39mnum_outputs,\n\u001b[1;32m   (...)\u001b[0m\n\u001b[0;32m   1566\u001b[0m       cancellation_manager\u001b[38;5;241m=\u001b[39mcancellation_context,\n\u001b[0;32m   1567\u001b[0m   )\n",
      "File \u001b[1;32md:\\appSetting\\codeSdk\\python\\Lib\\site-packages\\tensorflow\\python\\eager\\execute.py:53\u001b[0m, in \u001b[0;36mquick_execute\u001b[1;34m(op_name, num_outputs, inputs, attrs, ctx, name)\u001b[0m\n\u001b[0;32m     51\u001b[0m \u001b[38;5;28;01mtry\u001b[39;00m:\n\u001b[0;32m     52\u001b[0m   ctx\u001b[38;5;241m.\u001b[39mensure_initialized()\n\u001b[1;32m---> 53\u001b[0m   tensors \u001b[38;5;241m=\u001b[39m \u001b[43mpywrap_tfe\u001b[49m\u001b[38;5;241;43m.\u001b[39;49m\u001b[43mTFE_Py_Execute\u001b[49m\u001b[43m(\u001b[49m\u001b[43mctx\u001b[49m\u001b[38;5;241;43m.\u001b[39;49m\u001b[43m_handle\u001b[49m\u001b[43m,\u001b[49m\u001b[43m \u001b[49m\u001b[43mdevice_name\u001b[49m\u001b[43m,\u001b[49m\u001b[43m \u001b[49m\u001b[43mop_name\u001b[49m\u001b[43m,\u001b[49m\n\u001b[0;32m     54\u001b[0m \u001b[43m                                      \u001b[49m\u001b[43minputs\u001b[49m\u001b[43m,\u001b[49m\u001b[43m \u001b[49m\u001b[43mattrs\u001b[49m\u001b[43m,\u001b[49m\u001b[43m \u001b[49m\u001b[43mnum_outputs\u001b[49m\u001b[43m)\u001b[49m\n\u001b[0;32m     55\u001b[0m \u001b[38;5;28;01mexcept\u001b[39;00m core\u001b[38;5;241m.\u001b[39m_NotOkStatusException \u001b[38;5;28;01mas\u001b[39;00m e:\n\u001b[0;32m     56\u001b[0m   \u001b[38;5;28;01mif\u001b[39;00m name \u001b[38;5;129;01mis\u001b[39;00m \u001b[38;5;129;01mnot\u001b[39;00m \u001b[38;5;28;01mNone\u001b[39;00m:\n",
      "\u001b[1;31mKeyboardInterrupt\u001b[0m: "
     ]
    }
   ],
   "source": [
    "h_ = model_.fit(\n",
    "    [data_x1_,data_x2_,data_x3_,data_x4_,data_x5_,data_x6_,data_x7_],data_y_,\n",
    "    epochs = 100,\n",
    "    validation_split = 0.1\n",
    ") "
   ]
  },
  {
   "cell_type": "code",
   "execution_count": null,
   "id": "37a971c7",
   "metadata": {},
   "outputs": [],
   "source": []
  }
 ],
 "metadata": {
  "kernelspec": {
   "display_name": "Python 3",
   "language": "python",
   "name": "python3"
  },
  "language_info": {
   "codemirror_mode": {
    "name": "ipython",
    "version": 3
   },
   "file_extension": ".py",
   "mimetype": "text/x-python",
   "name": "python",
   "nbconvert_exporter": "python",
   "pygments_lexer": "ipython3",
   "version": "3.12.7"
  }
 },
 "nbformat": 4,
 "nbformat_minor": 5
}
